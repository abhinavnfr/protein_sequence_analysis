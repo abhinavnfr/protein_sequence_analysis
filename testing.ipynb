{
 "cells": [
  {
   "cell_type": "code",
   "execution_count": 0,
   "metadata": {
    "application/vnd.databricks.v1+cell": {
     "cellMetadata": {
      "byteLimit": 2048000,
      "implicitDf": true,
      "rowLimit": 10000
     },
     "inputWidgets": {},
     "nuid": "4a3320fb-bb3b-46eb-b0f7-0037f77fba25",
     "showTitle": false,
     "tableResultSettingsMap": {},
     "title": ""
    }
   },
   "outputs": [],
   "source": [
    "%sql\n",
    "SELECT * FROM workspace.raw.protein"
   ]
  },
  {
   "cell_type": "code",
   "execution_count": 0,
   "metadata": {
    "application/vnd.databricks.v1+cell": {
     "cellMetadata": {
      "byteLimit": 2048000,
      "implicitDf": true,
      "rowLimit": 10000
     },
     "inputWidgets": {},
     "nuid": "674eeaf2-24c8-4908-81b5-db0e173c8b60",
     "showTitle": false,
     "tableResultSettingsMap": {},
     "title": ""
    }
   },
   "outputs": [],
   "source": [
    "%sql\n",
    "SELECT id, COUNT(id)\n",
    "FROM workspace.raw.protein\n",
    "WHERE blast_of_id IS NULL\n",
    "GROUP BY id\n",
    "HAVING COUNT(id) > 1\n",
    "ORDER BY COUNT(id) DESC"
   ]
  },
  {
   "cell_type": "code",
   "execution_count": 0,
   "metadata": {
    "application/vnd.databricks.v1+cell": {
     "cellMetadata": {
      "byteLimit": 2048000,
      "implicitDf": true,
      "rowLimit": 10000
     },
     "inputWidgets": {},
     "nuid": "aab78d17-d070-426e-bfb4-3357d7637244",
     "showTitle": false,
     "tableResultSettingsMap": {},
     "title": ""
    }
   },
   "outputs": [],
   "source": [
    "%sql\n",
    "SELECT * FROM workspace.raw.protein\n",
    "WHERE id IN (\"JAMSEZ010000004.1.g911\")"
   ]
  },
  {
   "cell_type": "code",
   "execution_count": 0,
   "metadata": {
    "application/vnd.databricks.v1+cell": {
     "cellMetadata": {
      "byteLimit": 2048000,
      "implicitDf": true,
      "rowLimit": 10000
     },
     "inputWidgets": {},
     "nuid": "803edbc1-ae56-4fed-84fa-1411468a32fb",
     "showTitle": false,
     "tableResultSettingsMap": {
      "0": {
       "dataGridStateBlob": "{\"version\":1,\"tableState\":{\"columnPinning\":{\"left\":[\"#row_number#\"],\"right\":[]},\"columnSizing\":{},\"columnVisibility\":{}},\"settings\":{\"columns\":{}},\"syncTimestamp\":1761130442617}",
       "filterBlob": null,
       "queryPlanFiltersBlob": null,
       "tableResultIndex": 0
      }
     },
     "title": ""
    }
   },
   "outputs": [],
   "source": [
    "%sql\n",
    "SELECT *,\n",
    "           ROW_NUMBER() OVER (PARTITION BY id ORDER BY record_update_ts DESC) AS rn\n",
    "    FROM workspace.raw.protein\n",
    "    WHERE blast_of_id IS NULL\n"
   ]
  },
  {
   "cell_type": "code",
   "execution_count": 0,
   "metadata": {
    "application/vnd.databricks.v1+cell": {
     "cellMetadata": {
      "byteLimit": 2048000,
      "implicitDf": true,
      "rowLimit": 10000
     },
     "inputWidgets": {},
     "nuid": "a5faf1f9-a270-4a4c-a086-05e254927cd9",
     "showTitle": false,
     "tableResultSettingsMap": {},
     "title": ""
    }
   },
   "outputs": [],
   "source": [
    "%sql\n",
    "MERGE INTO workspace.raw.protein AS target\n",
    "USING (\n",
    "    SELECT * FROM (\n",
    "        SELECT *,\n",
    "               ROW_NUMBER() OVER (PARTITION BY id ORDER BY record_update_ts DESC) AS rn\n",
    "        FROM workspace.raw.protein\n",
    "        WHERE blast_of_id IS NULL\n",
    "    ) WHERE rn = 2\n",
    ") AS source\n",
    "ON target.id = source.id\n",
    "AND target.record_create_ts = source.record_create_ts\n",
    "AND target.record_update_ts = source.record_update_ts\n",
    "WHEN MATCHED THEN\n",
    "  DELETE\n"
   ]
  },
  {
   "cell_type": "code",
   "execution_count": 0,
   "metadata": {
    "application/vnd.databricks.v1+cell": {
     "cellMetadata": {
      "byteLimit": 2048000,
      "implicitDf": true,
      "rowLimit": 10000
     },
     "inputWidgets": {},
     "nuid": "d7e2e307-77d9-48af-bb4a-e7e88a48283d",
     "showTitle": false,
     "tableResultSettingsMap": {},
     "title": ""
    }
   },
   "outputs": [],
   "source": [
    "%sql\n",
    "SELECT id, COUNT(id)\n",
    "FROM workspace.raw.protein\n",
    "WHERE blast_of_id IS NULL\n",
    "GROUP BY id\n",
    "HAVING COUNT(id) > 1\n",
    "ORDER BY COUNT(id) DESC"
   ]
  },
  {
   "cell_type": "code",
   "execution_count": 0,
   "metadata": {
    "application/vnd.databricks.v1+cell": {
     "cellMetadata": {
      "byteLimit": 2048000,
      "rowLimit": 10000
     },
     "inputWidgets": {},
     "nuid": "127e0772-948b-4d15-a41d-266ec1448dfb",
     "showTitle": false,
     "tableResultSettingsMap": {},
     "title": ""
    }
   },
   "outputs": [],
   "source": [
    "from pyspark.sql.functions import monotonically_increasing_id, regexp_extract, col, lag, collect_list, concat_ws, current_timestamp, concat, lit\n",
    "from pyspark.sql.window import Window\n",
    "\n",
    "fasta_df = spark.read.text(\"/Volumes/workspace/raw/input/700.fasta\")\n",
    "\n",
    "# Add a unique line number\n",
    "fasta_df = fasta_df.withColumn(\"line_num\", monotonically_increasing_id())\n",
    "\n",
    "# Extract accession rows\n",
    "accession_df = fasta_df.filter(fasta_df.value.startswith(\">\"))\n",
    "accession_df = accession_df.withColumn(\"accession\", regexp_extract(col(\"value\"), \">(.+)\", 1))\n",
    "\n",
    "# Window spec for ordering by line_num\n",
    "window_spec = Window.orderBy(\"line_num\")\n",
    "\n",
    "# Get line number of next accession line for boundary\n",
    "accession_line_df = accession_df.select(\"line_num\", \"accession\")\n",
    "accession_line_df = accession_line_df.withColumn(\"next_line_num\", lag(\"line_num\", -1).over(window_spec))\n",
    "\n",
    "# Join sequences between acc lines\n",
    "seq_df = fasta_df.join(\n",
    "    accession_line_df,\n",
    "    (fasta_df.line_num >= accession_line_df.line_num) & \n",
    "    ((fasta_df.line_num < accession_line_df.next_line_num) | accession_line_df.next_line_num.isNull())\n",
    "    ).select(\"accession\", \"value\")\n",
    "\n",
    "# Group and concatenate sequence lines including header line\n",
    "seq_by_accession = seq_df.groupBy(\"accession\").agg(\n",
    "    concat_ws(\"\\n\", collect_list(\"value\")).alias(\"fasta_sequence\")\n",
    ")\n",
    "\n",
    "# Add columns for create and update timestamp, rename accession to id\n",
    "final_df = seq_by_accession.withColumn(\"record_create_ts\", current_timestamp()) \\\n",
    "                           .withColumn(\"record_update_ts\", current_timestamp()) \\\n",
    "                           .withColumnRenamed(\"accession\", \"id\") \\\n",
    "                           .select(\"record_create_ts\", \"record_update_ts\", \"id\", \"fasta_sequence\")\n",
    "\n",
    "final_df.display()\n"
   ]
  },
  {
   "cell_type": "code",
   "execution_count": 0,
   "metadata": {
    "application/vnd.databricks.v1+cell": {
     "cellMetadata": {
      "byteLimit": 2048000,
      "rowLimit": 10000
     },
     "inputWidgets": {},
     "nuid": "c5d85582-2926-40c0-80d2-ab1008a91d45",
     "showTitle": false,
     "tableResultSettingsMap": {},
     "title": ""
    }
   },
   "outputs": [],
   "source": [
    "final_df.write.mode(\"append\").saveAsTable(\"workspace.raw.protein\")"
   ]
  },
  {
   "cell_type": "code",
   "execution_count": 0,
   "metadata": {
    "application/vnd.databricks.v1+cell": {
     "cellMetadata": {},
     "inputWidgets": {},
     "nuid": "66019843-315f-478b-8f02-e30dffcf4f77",
     "showTitle": false,
     "tableResultSettingsMap": {},
     "title": ""
    }
   },
   "outputs": [],
   "source": []
  }
 ],
 "metadata": {
  "application/vnd.databricks.v1+notebook": {
   "computePreferences": null,
   "dashboards": [],
   "environmentMetadata": {
    "base_environment": "",
    "environment_version": "4"
   },
   "inputWidgetPreferences": null,
   "language": "python",
   "notebookMetadata": {
    "mostRecentlyExecutedCommandWithImplicitDF": {
     "commandId": 8316816232864115,
     "dataframes": [
      "_sqldf"
     ]
    },
    "pythonIndentUnit": 4
   },
   "notebookName": "testing",
   "widgets": {}
  },
  "language_info": {
   "name": "python"
  }
 },
 "nbformat": 4,
 "nbformat_minor": 0
}
