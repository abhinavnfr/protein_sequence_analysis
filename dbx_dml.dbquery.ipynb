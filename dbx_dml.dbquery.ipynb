{
 "cells": [
  {
   "cell_type": "code",
   "execution_count": 0,
   "metadata": {
    "application/vnd.databricks.v1+cell": {
     "cellMetadata": {
      "byteLimit": 10485760,
      "rowLimit": 1000
     },
     "inputWidgets": {},
     "nuid": "6ec95f46-ebde-4330-8f58-af3df0eadd55",
     "showTitle": false,
     "tableResultSettingsMap": {},
     "title": ""
    }
   },
   "outputs": [],
   "source": [
    "DELETE FROM workspace.raw.protein;\n",
    "\n",
    "UPDATE workspace.raw.protein\n",
    "SET molecular_weight_kda = null, isoelectric_point_pi = null, sequence_length = null;\n",
    "\n",
    "DELETE FROM workspace.raw.protein\n",
    "WHERE id = 'XP_042423635.1' OR blast_of_id = 'XP_042423635.1';\n",
    "\n",
    "SELECT * FROM workspace.raw.protein\n",
    "WHERE \n",
    "-- fasta_sequence = 'Supplied+id+parameter+is+empty.';\n",
    "-- record_create_ts = '2025-10-04T04:16:39.716+00:00'\n",
    "id = '';\n",
    "\n",
    "DELETE FROM workspace.raw.protein WHERE id = '';\n",
    "\n",
    "DELETE FROM workspace.raw.protein WHERE blast_of_id = 'KAG6471066.1';\n",
    "\n",
    "\n",
    "\n",
    "\n"
   ]
  }
 ],
 "metadata": {
  "application/vnd.databricks.v1+notebook": {
   "computePreferences": null,
   "dashboards": [],
   "environmentMetadata": null,
   "inputWidgetPreferences": null,
   "language": "sql",
   "notebookMetadata": {
    "pythonIndentUnit": 4,
    "sqlQueryOptions": {
     "applyAutoLimit": true,
     "catalog": "workspace",
     "schema": "curated"
    }
   },
   "notebookName": "dbx_dml.dbquery.ipynb",
   "widgets": {}
  },
  "language_info": {
   "name": "sql"
  }
 },
 "nbformat": 4,
 "nbformat_minor": 0
}
