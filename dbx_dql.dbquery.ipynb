{
 "cells": [
  {
   "cell_type": "code",
   "execution_count": 0,
   "metadata": {
    "application/vnd.databricks.v1+cell": {
     "cellMetadata": {
      "byteLimit": 10485760,
      "rowLimit": 1000
     },
     "inputWidgets": {},
     "nuid": "9f8df7d8-bcc5-4f93-af88-4821d793a0cd",
     "showTitle": false,
     "tableResultSettingsMap": {
      "0": {
       "dataGridStateBlob": "{\"version\":1,\"tableState\":{\"columnPinning\":{\"left\":[\"#row_number#\"],\"right\":[]},\"columnSizing\":{},\"columnVisibility\":{}},\"settings\":{\"columns\":{}},\"syncTimestamp\":1758553960981}",
       "filterBlob": "{\"version\":1,\"filterGroups\":[],\"syncTimestamp\":1759508533388}",
       "queryPlanFiltersBlob": "[]",
       "tableResultIndex": 0
      }
     },
     "title": ""
    }
   },
   "outputs": [],
   "source": [
    "DESCRIBE workspace.raw.protein;\n",
    "\n",
    "DESCRIBE HISTORY workspace.raw.protein;\n",
    "\n",
    "SELECT * FROM workspace.raw.protein;\n",
    "\n",
    "SELECT fasta_sequence FROM workspace.raw.protein WHERE id NOT IN (SELECT DISTINCT blast_of_id FROM workspace.raw.protein WHERE blast_of_id IS NOT NULL) AND blast_of_id IS NULL;\n",
    "SELECT * FROM workspace.raw.protein VERSION AS OF 358;\n",
    "SELECT * FROM workspace.raw.protein WHERE blast_top_hit_number = 1 OR blast_top_hit_number IS NULL;\n",
    "\n",
    "SELECT * FROM workspace.curated.blast_sequence;\n",
    "\n",
    "SELECT * FROM workspace.curated.effectorp;\n",
    "\n",
    "SELECT * FROM workspace.curated.pfam;\n",
    "\n",
    "SELECT * FROM workspace.curated.molecularweight;\n",
    "\n",
    "SELECT blast_of_id, COUNT(blast_of_id)\n",
    "FROM workspace.raw.protein\n",
    "GROUP BY blast_of_id\n",
    "ORDER BY COUNT(blast_of_id) DESC;\n",
    "\n",
    "SELECT COUNT(DISTINCT id) FROM workspace.raw.protein WHERE blast_of_id IS NULL;\n",
    "SELECT distinct id FROM workspace.raw.protein WHERE blast_of_id IS NULL;\n",
    "\n",
    "SELECT COUNT(*) FROM workspace.raw.protein;\n",
    "\n",
    "SELECT id FROM workspace.raw.protein WHERE id NOT IN (SELECT DISTINCT blast_of_id FROM workspace.raw.protein);\n",
    "\n",
    "SELECT * FROM workspace.raw.protein WHERE cytoplasmic_effector IS NULL;\n"
   ]
  }
 ],
 "metadata": {
  "application/vnd.databricks.v1+notebook": {
   "computePreferences": null,
   "dashboards": [],
   "environmentMetadata": null,
   "inputWidgetPreferences": null,
   "language": "sql",
   "notebookMetadata": {
    "pythonIndentUnit": 4,
    "sqlQueryOptions": {
     "applyAutoLimit": true,
     "catalog": "workspace",
     "schema": "curated"
    }
   },
   "notebookName": "dbx_dql.dbquery.ipynb",
   "widgets": {}
  },
  "language_info": {
   "name": "sql"
  }
 },
 "nbformat": 4,
 "nbformat_minor": 0
}
